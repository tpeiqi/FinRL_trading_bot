{
 "cells": [
  {
   "cell_type": "code",
   "execution_count": 1,
   "id": "d3a57f76",
   "metadata": {},
   "outputs": [
    {
     "name": "stdout",
     "output_type": "stream",
     "text": [
      "Requirement already satisfied: nbconvert in c:\\users\\tpeiq\\anaconda3\\envs\\pyspark310\\lib\\site-packages (7.16.6)\n",
      "Requirement already satisfied: beautifulsoup4 in c:\\users\\tpeiq\\anaconda3\\envs\\pyspark310\\lib\\site-packages (from nbconvert) (4.13.4)\n",
      "Requirement already satisfied: bleach!=5.0.0 in c:\\users\\tpeiq\\anaconda3\\envs\\pyspark310\\lib\\site-packages (from bleach[css]!=5.0.0->nbconvert) (6.2.0)\n",
      "Requirement already satisfied: defusedxml in c:\\users\\tpeiq\\anaconda3\\envs\\pyspark310\\lib\\site-packages (from nbconvert) (0.7.1)\n",
      "Requirement already satisfied: jinja2>=3.0 in c:\\users\\tpeiq\\anaconda3\\envs\\pyspark310\\lib\\site-packages (from nbconvert) (3.1.6)\n",
      "Requirement already satisfied: jupyter-core>=4.7 in c:\\users\\tpeiq\\anaconda3\\envs\\pyspark310\\lib\\site-packages (from nbconvert) (5.7.2)\n",
      "Requirement already satisfied: jupyterlab-pygments in c:\\users\\tpeiq\\anaconda3\\envs\\pyspark310\\lib\\site-packages (from nbconvert) (0.3.0)\n",
      "Requirement already satisfied: markupsafe>=2.0 in c:\\users\\tpeiq\\anaconda3\\envs\\pyspark310\\lib\\site-packages (from nbconvert) (3.0.2)\n",
      "Requirement already satisfied: mistune<4,>=2.0.3 in c:\\users\\tpeiq\\anaconda3\\envs\\pyspark310\\lib\\site-packages (from nbconvert) (3.1.3)\n",
      "Requirement already satisfied: nbclient>=0.5.0 in c:\\users\\tpeiq\\anaconda3\\envs\\pyspark310\\lib\\site-packages (from nbconvert) (0.10.2)\n",
      "Requirement already satisfied: nbformat>=5.7 in c:\\users\\tpeiq\\anaconda3\\envs\\pyspark310\\lib\\site-packages (from nbconvert) (5.10.4)\n",
      "Requirement already satisfied: packaging in c:\\users\\tpeiq\\anaconda3\\envs\\pyspark310\\lib\\site-packages (from nbconvert) (24.2)\n",
      "Requirement already satisfied: pandocfilters>=1.4.1 in c:\\users\\tpeiq\\anaconda3\\envs\\pyspark310\\lib\\site-packages (from nbconvert) (1.5.1)\n",
      "Requirement already satisfied: pygments>=2.4.1 in c:\\users\\tpeiq\\anaconda3\\envs\\pyspark310\\lib\\site-packages (from nbconvert) (2.19.1)\n",
      "Requirement already satisfied: traitlets>=5.1 in c:\\users\\tpeiq\\anaconda3\\envs\\pyspark310\\lib\\site-packages (from nbconvert) (5.14.3)\n",
      "Requirement already satisfied: webencodings in c:\\users\\tpeiq\\anaconda3\\envs\\pyspark310\\lib\\site-packages (from bleach!=5.0.0->bleach[css]!=5.0.0->nbconvert) (0.5.1)\n",
      "Requirement already satisfied: tinycss2<1.5,>=1.1.0 in c:\\users\\tpeiq\\anaconda3\\envs\\pyspark310\\lib\\site-packages (from bleach[css]!=5.0.0->nbconvert) (1.4.0)\n",
      "Requirement already satisfied: platformdirs>=2.5 in c:\\users\\tpeiq\\anaconda3\\envs\\pyspark310\\lib\\site-packages (from jupyter-core>=4.7->nbconvert) (4.3.7)\n",
      "Requirement already satisfied: pywin32>=300 in c:\\users\\tpeiq\\anaconda3\\envs\\pyspark310\\lib\\site-packages (from jupyter-core>=4.7->nbconvert) (310)\n",
      "Requirement already satisfied: typing-extensions in c:\\users\\tpeiq\\anaconda3\\envs\\pyspark310\\lib\\site-packages (from mistune<4,>=2.0.3->nbconvert) (4.13.2)\n",
      "Requirement already satisfied: jupyter-client>=6.1.12 in c:\\users\\tpeiq\\anaconda3\\envs\\pyspark310\\lib\\site-packages (from nbclient>=0.5.0->nbconvert) (8.6.3)\n",
      "Requirement already satisfied: fastjsonschema>=2.15 in c:\\users\\tpeiq\\anaconda3\\envs\\pyspark310\\lib\\site-packages (from nbformat>=5.7->nbconvert) (2.21.1)\n",
      "Requirement already satisfied: jsonschema>=2.6 in c:\\users\\tpeiq\\anaconda3\\envs\\pyspark310\\lib\\site-packages (from nbformat>=5.7->nbconvert) (4.23.0)\n",
      "Requirement already satisfied: soupsieve>1.2 in c:\\users\\tpeiq\\anaconda3\\envs\\pyspark310\\lib\\site-packages (from beautifulsoup4->nbconvert) (2.7)\n",
      "Requirement already satisfied: attrs>=22.2.0 in c:\\users\\tpeiq\\anaconda3\\envs\\pyspark310\\lib\\site-packages (from jsonschema>=2.6->nbformat>=5.7->nbconvert) (25.3.0)\n",
      "Requirement already satisfied: jsonschema-specifications>=2023.03.6 in c:\\users\\tpeiq\\anaconda3\\envs\\pyspark310\\lib\\site-packages (from jsonschema>=2.6->nbformat>=5.7->nbconvert) (2025.4.1)\n",
      "Requirement already satisfied: referencing>=0.28.4 in c:\\users\\tpeiq\\anaconda3\\envs\\pyspark310\\lib\\site-packages (from jsonschema>=2.6->nbformat>=5.7->nbconvert) (0.36.2)\n",
      "Requirement already satisfied: rpds-py>=0.7.1 in c:\\users\\tpeiq\\anaconda3\\envs\\pyspark310\\lib\\site-packages (from jsonschema>=2.6->nbformat>=5.7->nbconvert) (0.24.0)\n",
      "Requirement already satisfied: python-dateutil>=2.8.2 in c:\\users\\tpeiq\\anaconda3\\envs\\pyspark310\\lib\\site-packages (from jupyter-client>=6.1.12->nbclient>=0.5.0->nbconvert) (2.9.0.post0)\n",
      "Requirement already satisfied: pyzmq>=23.0 in c:\\users\\tpeiq\\anaconda3\\envs\\pyspark310\\lib\\site-packages (from jupyter-client>=6.1.12->nbclient>=0.5.0->nbconvert) (26.4.0)\n",
      "Requirement already satisfied: tornado>=6.2 in c:\\users\\tpeiq\\anaconda3\\envs\\pyspark310\\lib\\site-packages (from jupyter-client>=6.1.12->nbclient>=0.5.0->nbconvert) (6.4.2)\n",
      "Requirement already satisfied: six>=1.5 in c:\\users\\tpeiq\\anaconda3\\envs\\pyspark310\\lib\\site-packages (from python-dateutil>=2.8.2->jupyter-client>=6.1.12->nbclient>=0.5.0->nbconvert) (1.17.0)\n"
     ]
    }
   ],
   "source": [
    "!pip install nbconvert\n"
   ]
  },
  {
   "cell_type": "code",
   "execution_count": 4,
   "id": "99fc73ac",
   "metadata": {},
   "outputs": [
    {
     "name": "stdout",
     "output_type": "stream",
     "text": [
      "Installed kernelspec pyspark310 in C:\\Users\\tpeiq\\AppData\\Roaming\\jupyter\\kernels\\pyspark310\n"
     ]
    }
   ],
   "source": [
    "!python -m ipykernel install --user --name pyspark310 --display-name \"pyspark310\""
   ]
  },
  {
   "cell_type": "code",
   "execution_count": null,
   "id": "8ecaa9a9",
   "metadata": {},
   "outputs": [
    {
     "name": "stderr",
     "output_type": "stream",
     "text": [
      "[NbConvertApp] Converting notebook C:\\Users\\tpeiq\\OneDrive\\Desktop\\investment\\FinRL\\final\\FinRL_trading_bot.ipynb to notebook\n",
      "C:\\Users\\tpeiq\\anaconda3\\envs\\pyspark310\\lib\\site-packages\\zmq\\_future.py:718: RuntimeWarning: Proactor event loop does not implement add_reader family of methods required for zmq. Registering an additional selector thread for add_reader support via tornado. Use `asyncio.set_event_loop_policy(WindowsSelectorEventLoopPolicy())` to avoid this warning.\n",
      "  self._get_loop()\n",
      "[NbConvertApp] Writing 76575 bytes to C:\\Users\\tpeiq\\OneDrive\\Desktop\\investment\\FinRL\\final\\FinRL_trading_bot.ipynb\n"
     ]
    }
   ],
   "source": [
    "!jupyter nbconvert --to notebook --execute \"C:\\Users\\tpeiq\\Desktop\\investment\\FinRL\\final\\FinRL_trading_bot.ipynb\" --ExecutePreprocessor.kernel_name=pyspark310 --inplace\n"
   ]
  },
  {
   "cell_type": "code",
   "execution_count": null,
   "id": "3754cd90",
   "metadata": {},
   "outputs": [
    {
     "name": "stdout",
     "output_type": "stream",
     "text": [
      "^C\n"
     ]
    }
   ],
   "source": [
    "!jupyter nbconvert --to notebook --execute \"C:\\Users\\tpeiq\\Desktop\\investment\\FinRL\\final\\FinRL_models.ipynb\" --ExecutePreprocessor.kernel_name=pyspark310 --inplace\n"
   ]
  }
 ],
 "metadata": {
  "kernelspec": {
   "display_name": "pyspark310",
   "language": "python",
   "name": "python3"
  },
  "language_info": {
   "codemirror_mode": {
    "name": "ipython",
    "version": 3
   },
   "file_extension": ".py",
   "mimetype": "text/x-python",
   "name": "python",
   "nbconvert_exporter": "python",
   "pygments_lexer": "ipython3",
   "version": "3.10.17"
  }
 },
 "nbformat": 4,
 "nbformat_minor": 5
}
