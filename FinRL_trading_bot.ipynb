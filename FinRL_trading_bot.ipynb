{
 "cells": [
  {
   "cell_type": "code",
   "execution_count": 13,
   "id": "4ba94bcc",
   "metadata": {},
   "outputs": [
    {
     "name": "stdout",
     "output_type": "stream",
     "text": [
      "Requirement already satisfied: tigeropen in c:\\users\\tpeiq\\anaconda3\\envs\\pyspark310\\lib\\site-packages (3.4.0)\n",
      "Requirement already satisfied: simplejson in c:\\users\\tpeiq\\anaconda3\\envs\\pyspark310\\lib\\site-packages (from tigeropen) (3.20.1)\n",
      "Requirement already satisfied: delorean in c:\\users\\tpeiq\\anaconda3\\envs\\pyspark310\\lib\\site-packages (from tigeropen) (1.0.0)\n",
      "Requirement already satisfied: pandas in c:\\users\\tpeiq\\anaconda3\\envs\\pyspark310\\lib\\site-packages (from tigeropen) (2.2.3)\n",
      "Requirement already satisfied: python-dateutil in c:\\users\\tpeiq\\anaconda3\\envs\\pyspark310\\lib\\site-packages (from tigeropen) (2.9.0.post0)\n",
      "Requirement already satisfied: pytz in c:\\users\\tpeiq\\anaconda3\\envs\\pyspark310\\lib\\site-packages (from tigeropen) (2025.2)\n",
      "Requirement already satisfied: pyasn1 in c:\\users\\tpeiq\\anaconda3\\envs\\pyspark310\\lib\\site-packages (from tigeropen) (0.6.1)\n",
      "Requirement already satisfied: rsa in c:\\users\\tpeiq\\anaconda3\\envs\\pyspark310\\lib\\site-packages (from tigeropen) (4.9.1)\n",
      "Requirement already satisfied: stomp.py in c:\\users\\tpeiq\\anaconda3\\envs\\pyspark310\\lib\\site-packages (from tigeropen) (8.2.0)\n",
      "Requirement already satisfied: getmac in c:\\users\\tpeiq\\anaconda3\\envs\\pyspark310\\lib\\site-packages (from tigeropen) (0.9.5)\n",
      "Requirement already satisfied: cryptography in c:\\users\\tpeiq\\anaconda3\\envs\\pyspark310\\lib\\site-packages (from tigeropen) (45.0.4)\n",
      "Requirement already satisfied: backoff in c:\\users\\tpeiq\\anaconda3\\envs\\pyspark310\\lib\\site-packages (from tigeropen) (2.2.1)\n",
      "Requirement already satisfied: jproperties in c:\\users\\tpeiq\\anaconda3\\envs\\pyspark310\\lib\\site-packages (from tigeropen) (2.1.2)\n",
      "Requirement already satisfied: protobuf in c:\\users\\tpeiq\\anaconda3\\envs\\pyspark310\\lib\\site-packages (from tigeropen) (5.29.5)\n",
      "Requirement already satisfied: google-cloud in c:\\users\\tpeiq\\anaconda3\\envs\\pyspark310\\lib\\site-packages (from tigeropen) (0.34.0)\n",
      "Requirement already satisfied: urllib3 in c:\\users\\tpeiq\\anaconda3\\envs\\pyspark310\\lib\\site-packages (from tigeropen) (1.26.20)\n",
      "Requirement already satisfied: cffi>=1.14 in c:\\users\\tpeiq\\anaconda3\\envs\\pyspark310\\lib\\site-packages (from cryptography->tigeropen) (1.17.1)\n",
      "Requirement already satisfied: babel>=2.1.1 in c:\\users\\tpeiq\\anaconda3\\envs\\pyspark310\\lib\\site-packages (from delorean->tigeropen) (2.17.0)\n",
      "Requirement already satisfied: humanize>=0.5.1 in c:\\users\\tpeiq\\anaconda3\\envs\\pyspark310\\lib\\site-packages (from delorean->tigeropen) (4.12.3)\n",
      "Requirement already satisfied: tzlocal>=1.2 in c:\\users\\tpeiq\\anaconda3\\envs\\pyspark310\\lib\\site-packages (from delorean->tigeropen) (5.3.1)\n",
      "Requirement already satisfied: six>=1.5 in c:\\users\\tpeiq\\anaconda3\\envs\\pyspark310\\lib\\site-packages (from python-dateutil->tigeropen) (1.17.0)\n",
      "Requirement already satisfied: numpy>=1.22.4 in c:\\users\\tpeiq\\anaconda3\\envs\\pyspark310\\lib\\site-packages (from pandas->tigeropen) (2.2.5)\n",
      "Requirement already satisfied: tzdata>=2022.7 in c:\\users\\tpeiq\\anaconda3\\envs\\pyspark310\\lib\\site-packages (from pandas->tigeropen) (2025.2)\n",
      "Requirement already satisfied: docopt<0.7.0,>=0.6.2 in c:\\users\\tpeiq\\anaconda3\\envs\\pyspark310\\lib\\site-packages (from stomp.py->tigeropen) (0.6.2)\n",
      "Requirement already satisfied: websocket-client<2.0.0,>=1.2.3 in c:\\users\\tpeiq\\anaconda3\\envs\\pyspark310\\lib\\site-packages (from stomp.py->tigeropen) (1.8.0)\n",
      "Requirement already satisfied: pycparser in c:\\users\\tpeiq\\anaconda3\\envs\\pyspark310\\lib\\site-packages (from cffi>=1.14->cryptography->tigeropen) (2.22)\n"
     ]
    }
   ],
   "source": [
    "!pip install tigeropen"
   ]
  },
  {
   "cell_type": "code",
   "execution_count": 14,
   "id": "6347ba3b",
   "metadata": {},
   "outputs": [],
   "source": [
    "# SMART LIVE TRADING BOT SCRIPT (DAILY)\n",
    "# Supports multi-stock, multi-agent SMART model, and Tiger Brokers API with balance checks, logging, and capital-aware execution\n",
    "\n",
    "import pandas as pd\n",
    "import numpy as np\n",
    "import yfinance as yf\n",
    "import logging\n",
    "import itertools\n",
    "import os\n",
    "from datetime import datetime, timedelta\n",
    "from stable_baselines3 import PPO, A2C, SAC\n",
    "\n",
    "# === Setup Logging ===\n",
    "logging.basicConfig(\n",
    "    filename='smart_trading_bot.log',\n",
    "    level=logging.INFO,\n",
    "    format='%(asctime)s - %(levelname)s - %(message)s'\n",
    ")\n",
    "# Improved logging: log INFO to 'smart_trading_bot.log', ERROR to 'smart_trading_bot_error.log'\n",
    "logger = logging.getLogger()\n",
    "logger.setLevel(logging.INFO)\n",
    "\n",
    "# File handler for INFO and above\n",
    "info_handler = logging.FileHandler('smart_trading_bot.log')\n",
    "info_handler.setLevel(logging.INFO)\n",
    "info_formatter = logging.Formatter('%(asctime)s - %(levelname)s - %(message)s')\n",
    "info_handler.setFormatter(info_formatter)\n",
    "\n",
    "# File handler for ERROR and above\n",
    "error_handler = logging.FileHandler('smart_trading_bot_error.log')\n",
    "error_handler.setLevel(logging.ERROR)\n",
    "error_formatter = logging.Formatter('%(asctime)s - %(levelname)s - %(message)s')\n",
    "error_handler.setFormatter(error_formatter)\n",
    "\n",
    "# Remove default handlers and add our handlers\n",
    "if logger.hasHandlers():\n",
    "    logger.handlers.clear()\n",
    "logger.addHandler(info_handler)\n",
    "logger.addHandler(error_handler)\n",
    "\n",
    "logging.info(\"SMART Trading Bot started.\")\n",
    "\n"
   ]
  },
  {
   "cell_type": "code",
   "execution_count": 15,
   "id": "2d02b2dd",
   "metadata": {},
   "outputs": [
    {
     "name": "stdout",
     "output_type": "stream",
     "text": [
      "['common', 'examples', 'fundamental', 'push', 'quote', 'tiger_open_client.py', 'tiger_open_config.py', 'trade', '__init__.py', '__pycache__']\n"
     ]
    }
   ],
   "source": [
    "import os\n",
    "import tigeropen\n",
    "print(os.listdir(os.path.dirname(tigeropen.__file__)))"
   ]
  },
  {
   "cell_type": "code",
   "execution_count": 16,
   "id": "59e534a5",
   "metadata": {},
   "outputs": [
    {
     "name": "stdout",
     "output_type": "stream",
     "text": [
      "2025-06-24\n",
      "2021-06-25\n"
     ]
    },
    {
     "name": "stderr",
     "output_type": "stream",
     "text": [
      "c:\\Users\\tpeiq\\anaconda3\\envs\\pyspark310\\lib\\site-packages\\stable_baselines3\\common\\on_policy_algorithm.py:150: UserWarning: You are trying to run PPO on the GPU, but it is primarily intended to run on the CPU when not using a CNN policy (you are using ActorCriticPolicy which should be a MlpPolicy). See https://github.com/DLR-RM/stable-baselines3/issues/1245 for more info. You can pass `device='cpu'` or `export CUDA_VISIBLE_DEVICES=` to force using the CPU.Note: The model will train, but the GPU utilization will be poor and the training might take longer than on CPU.\n",
      "  warnings.warn(\n",
      "c:\\Users\\tpeiq\\anaconda3\\envs\\pyspark310\\lib\\site-packages\\stable_baselines3\\common\\on_policy_algorithm.py:150: UserWarning: You are trying to run A2C on the GPU, but it is primarily intended to run on the CPU when not using a CNN policy (you are using ActorCriticPolicy which should be a MlpPolicy). See https://github.com/DLR-RM/stable-baselines3/issues/1245 for more info. You can pass `device='cpu'` or `export CUDA_VISIBLE_DEVICES=` to force using the CPU.Note: The model will train, but the GPU utilization will be poor and the training might take longer than on CPU.\n",
      "  warnings.warn(\n"
     ]
    }
   ],
   "source": [
    "# === Tiger Brokers API ===\n",
    "from tigeropen.tiger_open_config import TigerOpenClientConfig\n",
    "from tigeropen.common.consts import Language, OrderType\n",
    "from tigeropen.trade.trade_client import TradeClient\n",
    "\n",
    "# Fallback enum for TimeInForce if missing\n",
    "class TimeInForce:\n",
    "    DAY = 'DAY'\n",
    "    GTC = 'GTC'\n",
    "    IOC = 'IOC'\n",
    "\n",
    "class AccountType:\n",
    "    INDIVIDUAL = 'INDIVIDUAL'\n",
    "    JOINT = 'JOINT'\n",
    "    CORPORATE = 'CORPORATE'\n",
    "\n",
    "# === Your trained DRL models ===\n",
    "model_ppo = PPO.load(\"trained_models/agent_ppo\")\n",
    "model_a2c = A2C.load('trained_models/agent_a2c')\n",
    "model_sac = SAC.load(\"trained_models/agent_sac\")\n",
    "\n",
    "# === Stocks to monitor ===\n",
    "tickers = ['aapl', 'amd', 'amzn', 'cat', 'crwd', 'googl', 'gs', 'hd', 'ibm',\n",
    "       'intc', 'meta', 'msft', 'nvda', 'pypl', 't', 'tsla', 'v']\n",
    "\n",
    "# === Parameters ===\n",
    "hmax = 100  # Max shares per trade per asset\n",
    "TRADE_END_DATE = datetime.today().strftime(\"%Y-%m-%d\")\n",
    "TRAIN_START_DATE = (datetime.today() - timedelta(days=365*4)).strftime(\"%Y-%m-%d\")\n",
    "daily_loss_threshold = 0.05\n",
    "capital_limit_pct = 0.75\n",
    "print(TRADE_END_DATE)\n",
    "print(TRAIN_START_DATE)\n"
   ]
  },
  {
   "cell_type": "code",
   "execution_count": 17,
   "id": "e4d8540e",
   "metadata": {},
   "outputs": [
    {
     "name": "stderr",
     "output_type": "stream",
     "text": [
      "[*********************100%***********************]  1 of 1 completed\n",
      "[*********************100%***********************]  1 of 1 completed\n",
      "[*********************100%***********************]  1 of 1 completed\n",
      "[*********************100%***********************]  1 of 1 completed\n",
      "[*********************100%***********************]  1 of 1 completed\n",
      "[*********************100%***********************]  1 of 1 completed\n",
      "[*********************100%***********************]  1 of 1 completed\n",
      "[*********************100%***********************]  1 of 1 completed\n",
      "[*********************100%***********************]  1 of 1 completed\n",
      "[*********************100%***********************]  1 of 1 completed\n",
      "[*********************100%***********************]  1 of 1 completed\n",
      "[*********************100%***********************]  1 of 1 completed\n",
      "[*********************100%***********************]  1 of 1 completed\n",
      "[*********************100%***********************]  1 of 1 completed\n",
      "[*********************100%***********************]  1 of 1 completed\n",
      "[*********************100%***********************]  1 of 1 completed\n",
      "[*********************100%***********************]  1 of 1 completed\n"
     ]
    },
    {
     "name": "stdout",
     "output_type": "stream",
     "text": [
      "Shape of DataFrame:  (17034, 8)\n"
     ]
    },
    {
     "name": "stderr",
     "output_type": "stream",
     "text": [
      "[*********************100%***********************]  1 of 1 completed"
     ]
    },
    {
     "name": "stdout",
     "output_type": "stream",
     "text": [
      "Successfully added technical indicators\n",
      "Shape of DataFrame:  (1001, 8)\n",
      "Successfully added vix\n"
     ]
    },
    {
     "name": "stderr",
     "output_type": "stream",
     "text": [
      "\n"
     ]
    },
    {
     "name": "stdout",
     "output_type": "stream",
     "text": [
      "Successfully added turbulence index\n"
     ]
    }
   ],
   "source": [
    "# === Preprocess with YahooDownloader and FeatureEngineer ===\n",
    "from finrl.meta.preprocessor.yahoodownloader import YahooDownloader\n",
    "from finrl.meta.preprocessor.preprocessors import FeatureEngineer\n",
    "from finrl.config import INDICATORS\n",
    "\n",
    "df_raw = YahooDownloader(\n",
    "    start_date=TRAIN_START_DATE,\n",
    "    end_date=TRADE_END_DATE,\n",
    "    ticker_list=tickers\n",
    ").fetch_data()\n",
    "\n",
    "fe = FeatureEngineer(\n",
    "    use_technical_indicator=True,\n",
    "    tech_indicator_list=INDICATORS,\n",
    "    use_vix=True,\n",
    "    use_turbulence=True,\n",
    "    user_defined_feature=False\n",
    ")\n",
    "processed = fe.preprocess_data(df_raw)\n",
    "\n",
    "# Align to all dates and tickers\n",
    "list_ticker = processed[\"tic\"].unique().tolist()\n",
    "list_date = list(pd.date_range(processed['date'].min(), processed['date'].max()).astype(str))\n",
    "combination = list(itertools.product(list_date, list_ticker))\n",
    "processed_full = pd.DataFrame(combination, columns=[\"date\", \"tic\"]) \\\n",
    "    .merge(processed, on=[\"date\", \"tic\"], how=\"left\")\n",
    "processed_full = processed_full[processed_full['date'].isin(processed['date'])]\n",
    "processed_full = processed_full.sort_values(['date','tic'])\n",
    "processed_full = processed_full.fillna(0)\n",
    "\n",
    "# Make sure 'date' column is in datetime format\n",
    "processed_full['date'] = pd.to_datetime(processed_full['date'])\n",
    "\n",
    "# Sort first for consistency\n",
    "processed_full = processed_full.sort_values(by=['date', 'tic']).reset_index(drop=True)\n",
    "\n",
    "# Assign the same index to all rows with the same date\n",
    "processed_full.index = processed_full.groupby('date').ngroup()\n",
    "\n"
   ]
  },
  {
   "cell_type": "code",
   "execution_count": 18,
   "id": "e6d50e27",
   "metadata": {},
   "outputs": [
    {
     "name": "stdout",
     "output_type": "stream",
     "text": [
      "2025-06-20 00:00:00\n"
     ]
    }
   ],
   "source": [
    "print(processed_full.date.max())"
   ]
  },
  {
   "cell_type": "code",
   "execution_count": 19,
   "id": "83afd2a9",
   "metadata": {},
   "outputs": [
    {
     "name": "stdout",
     "output_type": "stream",
     "text": [
      "Stock Dimension: 17, State Space: 171\n"
     ]
    }
   ],
   "source": [
    "# === Build environment ===\n",
    "from finrl.meta.env_stock_trading.env_stocktrading import StockTradingEnv \n",
    "\n",
    "stock_dimension = len(tickers)\n",
    "state_space = 1 + 2 * stock_dimension + len(INDICATORS) * stock_dimension\n",
    "print(f\"Stock Dimension: {stock_dimension}, State Space: {state_space}\")\n",
    "\n",
    "buy_cost_list = sell_cost_list = [0.001] * stock_dimension\n",
    "num_stock_shares = [0] * stock_dimension\n",
    "\n",
    "env_kwargs = {\n",
    "    \"hmax\": 100,\n",
    "    \"initial_amount\": 1000000,\n",
    "    \"num_stock_shares\": num_stock_shares,\n",
    "    \"buy_cost_pct\": buy_cost_list,\n",
    "    \"sell_cost_pct\": sell_cost_list,\n",
    "    \"state_space\": state_space,\n",
    "    \"stock_dim\": stock_dimension,\n",
    "    \"tech_indicator_list\": INDICATORS,\n",
    "    \"action_space\": stock_dimension,\n",
    "    \"reward_scaling\": 1e-4\n",
    "}\n",
    "\n",
    "env = StockTradingEnv(df=processed_full, **env_kwargs)\n",
    "obs, _ = env.reset()\n",
    "initial_account_value = env.initial_amount\n",
    "\n"
   ]
  },
  {
   "cell_type": "code",
   "execution_count": 20,
   "id": "32795a43",
   "metadata": {},
   "outputs": [
    {
     "name": "stdout",
     "output_type": "stream",
     "text": [
      "Model observation space: (171,)\n"
     ]
    }
   ],
   "source": [
    "print(\"Model observation space:\", model_ppo.observation_space.shape)"
   ]
  },
  {
   "cell_type": "code",
   "execution_count": null,
   "id": "17ec5a25",
   "metadata": {},
   "outputs": [],
   "source": [
    "# === SMART Logic (Rolling Sharpe) ===\n",
    "def calculate_sharpe(df_account_value):\n",
    "    returns = df_account_value['account_value'].pct_change().dropna()\n",
    "    if returns.std() == 0:\n",
    "        return 0\n",
    "    return (252**0.5) * returns.mean() / returns.std()\n",
    "\n",
    "def compute_rolling_sharpes(account_value_dfs, window=30):\n",
    "    sharpes = {}\n",
    "    for name, df in account_value_dfs.items():\n",
    "        returns = df['account_value'].pct_change().dropna()\n",
    "        rolling = returns.rolling(window=window)\n",
    "        rolling_sharpe = (rolling.mean() / rolling.std()) * np.sqrt(252)\n",
    "        sharpes[name] = rolling_sharpe.fillna(0).values\n",
    "    return sharpes\n",
    "\n",
    "def pick_best_model(rolling_sharpes, t):\n",
    "    best_model = max(rolling_sharpes, key=lambda name: rolling_sharpes[name][t] if t < len(rolling_sharpes[name]) else -np.inf)\n",
    "    return best_model\n",
    "\n",
    "# Simulate models for updated rolling Sharpe\n",
    "from finrl.agents.stablebaselines3.models import DRLAgent\n",
    "agent = DRLAgent(env=env)\n",
    "\n",
    "df_account_value_a2c, df_actions_a2c = agent.DRL_prediction(model=model_a2c, environment=env)\n",
    "df_account_value_sac, df_actions_sac = agent.DRL_prediction(model=model_sac, environment=env)\n",
    "df_account_value_ppo, df_actions_ppo = agent.DRL_prediction(model=model_ppo, environment=env)\n",
    "\n",
    "# Evaluate and save account value\n",
    "\n",
    "df_account_value_a2c.to_csv(\"a2c_account_value.csv\", index=False)\n",
    "df_account_value_sac.to_csv(\"sac_account_value.csv\", index=False)\n",
    "df_account_value_ppo.to_csv(\"ppo_account_value.csv\", index=False)\n",
    "\n"
   ]
  },
  {
   "cell_type": "code",
   "execution_count": null,
   "id": "69a6218c",
   "metadata": {},
   "outputs": [
    {
     "name": "stdout",
     "output_type": "stream",
     "text": [
      "Selected best model: ppo\n"
     ]
    }
   ],
   "source": [
    "# === Live Sharpe Tracking ===\n",
    "live_returns = pd.Series(env.asset_memory).pct_change().dropna()\n",
    "if live_returns.std() != 0:\n",
    "    live_sharpe = (live_returns.mean() / live_returns.std()) * np.sqrt(252)\n",
    "    logging.info(f\"Live Sharpe ratio: {live_sharpe:.3f}\")\n",
    "else:\n",
    "    logging.info(\"Live Sharpe ratio undefined (std=0)\")\n",
    "\n",
    "# === Stop-Loss Check ===\n",
    "latest_value = env.asset_memory[-1]\n",
    "daily_loss = (initial_account_value - latest_value) / initial_account_value\n",
    "if daily_loss > daily_loss_threshold:\n",
    "    logging.warning(f\"Daily loss exceeded threshold ({daily_loss:.2%}). Stopping execution.\")\n",
    "    print(\"Daily stop-loss triggered. No trades executed.\")\n",
    "    exit()\n",
    "\n",
    "account_value_dfs = {\n",
    "    \"a2c\": df_account_value_a2c,\n",
    "    \"ppo\": df_account_value_ppo,\n",
    "    \"sac\": df_account_value_sac,\n",
    "}\n",
    "\n",
    "rolling_sharpes = compute_rolling_sharpes(account_value_dfs, window=30)\n",
    "t = -1  # use last timestep\n",
    "best_model = pick_best_model(rolling_sharpes, t)\n",
    "\n",
    "if best_model == \"ppo\":\n",
    "    final_model = model_ppo\n",
    "elif best_model == \"sac\":\n",
    "    final_model = model_sac\n",
    "else:\n",
    "    final_model = model_a2c\n",
    "\n",
    "logging.info(f\"Selected best model: {best_model}\")\n",
    "print(f\"Selected best model: {best_model}\")\n",
    "\n"
   ]
  },
  {
   "cell_type": "code",
   "execution_count": null,
   "id": "7334100f",
   "metadata": {},
   "outputs": [
    {
     "name": "stdout",
     "output_type": "stream",
     "text": [
      "['_TigerOpenClientConfig__get_device_id', '__class__', '__delattr__', '__dict__', '__dir__', '__doc__', '__eq__', '__format__', '__ge__', '__getattribute__', '__gt__', '__hash__', '__init__', '__init_subclass__', '__le__', '__lt__', '__module__', '__ne__', '__new__', '__reduce__', '__reduce_ex__', '__repr__', '__setattr__', '__sizeof__', '__str__', '__subclasshook__', '__weakref__', '_get_domain_by_type', '_get_props_path', '_load_props', 'account', 'charset', 'get_token_path', 'is_paper', 'is_us', 'language', 'license', 'load_token', 'private_key', 'query_domains', 'quote_server_url', 'refresh_server_info', 'sdk_version', 'secret_key', 'server_url', 'should_token_refresh', 'sign_type', 'socket_host_port', 'store_token', 'tiger_id', 'tiger_public_key', 'timeout', 'timezone', 'token', 'token_refresh_duration']\n"
     ]
    }
   ],
   "source": [
    "# Display the attributes and methods of TigerOpenClientConfig\n",
    "print(dir(TigerOpenClientConfig))"
   ]
  },
  {
   "cell_type": "code",
   "execution_count": 12,
   "id": "e75c28b6",
   "metadata": {},
   "outputs": [
    {
     "name": "stdout",
     "output_type": "stream",
     "text": [
      "[PortfolioAccount({'account': '21922446447411428', 'summary': Account({'accrued_cash': inf, 'accrued_dividend': inf, 'available_funds': inf, 'buying_power': 3690576.78, 'cash': 826362.65, 'currency': 'USD', 'cushion': inf, 'day_trades_remaining': inf, 'equity_with_loan': inf, 'excess_liquidity': inf, 'gross_position_value': inf, 'initial_margin_requirement': inf, 'maintenance_margin_requirement': inf, 'net_liquidation': 1003155.33, 'realized_pnl': 0.0, 'regt_equity': inf, 'regt_margin': inf, 'sma': inf, 'timestamp': None, 'unrealized_pnl': 3155.32}), 'segments': defaultdict(<class 'tigeropen.trade.domain.account.Account'>, {'S': SecuritySegment({'accrued_cash': 0.0, 'accrued_dividend': 0.0, 'available_funds': 847558.92, 'cash': 826362.65, 'equity_with_loan': 1003155.33, 'excess_liquidity': 936112.85, 'gross_position_value': 176792.68, 'initial_margin_requirement': 80511.14, 'leverage': 0.1762, 'maintenance_margin_requirement': 67042.48, 'net_liquidation': 1003155.33, 'regt_equity': inf, 'regt_margin': inf, 'sma': inf, 'timestamp': None, 'account': '21922446447411428', 'category': 'S', 'title': 'US Securities'}), 'C': CommoditySegment({'accrued_cash': 0.0, 'accrued_dividend': 0.0, 'available_funds': 0.0, 'cash': 0.0, 'equity_with_loan': 0.0, 'excess_liquidity': 0.0, 'initial_margin_requirement': 0.0, 'maintenance_margin_requirement': 0.0, 'net_liquidation': 0.0, 'gross_position_value': 0.0, 'timestamp': None, 'account': '21922446447411428', 'category': 'C', 'title': 'US Commodities', 'leverage': 0.0})}), 'market_values': defaultdict(<class 'tigeropen.trade.domain.account.MarketValue'>, {})})]\n",
      "✅ Current account value: 1003155.33\n",
      "✅ Live account loss check passed. Current value: 1003155.33, Previous value: 1003315.31\n"
     ]
    }
   ],
   "source": [
    "# === Connect to Tiger Brokers ===\n",
    "from tigeropen.common.util.signature_utils import read_private_key\n",
    "from tigeropen.quote.quote_client import QuoteClient\n",
    "\n",
    "\n",
    "\n",
    "YESTERDAY_FILE = r'./data/account_value_yesterday.txt'\n",
    "def get_config(sandbox=False):\n",
    "    cfg = TigerOpenClientConfig(sandbox_debug=sandbox)\n",
    "    cfg.private_key = read_private_key(os.getenv(\"TIGER_PRIVATE_KEY_PEM\"))  # Path to your private key file\n",
    "    cfg.tiger_id = os.getenv(\"TIGER_ID\")\n",
    "    cfg.account = os.getenv(\"TIGER_PAPER_ACCOUNT\")  # paper account\n",
    "    cfg.language = Language.en_US\n",
    "    return cfg\n",
    "\n",
    "config = get_config(sandbox=False)\n",
    "quote_client = QuoteClient(config)\n",
    "trade_client = TradeClient(config)\n",
    "\n",
    "# Check quote access (optional)\n",
    "quote_client.grab_quote_permission()\n",
    "\n",
    "trade_client = TradeClient(config)\n",
    "account_summary = trade_client.get_assets()\n",
    "print(account_summary)\n",
    "\n",
    "\n",
    "# === Real Stop-Loss Check Using Live Account ===\n",
    "daily_loss_threshold = 0.05\n",
    "\n",
    "try:\n",
    "    # Get current net liquidation value from Tiger account\n",
    "    assets = trade_client.get_assets()\n",
    "    current_value = float(assets[0].summary.net_liquidation)\n",
    "    print(f\"✅ Current account value: {current_value}\")\n",
    "\n",
    "    # Read yesterday’s value (default to 0.0 if file missing or empty)\n",
    "    previous_value = 0.0\n",
    "    if os.path.exists(YESTERDAY_FILE):\n",
    "        with open(YESTERDAY_FILE, 'r') as f:\n",
    "            content = f.read().strip()\n",
    "            if content:\n",
    "                previous_value = float(content)\n",
    "            else:\n",
    "                print(\"⚠️ Yesterday's file is empty. Assuming previous value = 0.0\")\n",
    "    else:\n",
    "        print(\"📄 Yesterday's file not found. Assuming previous value = 0.0\")\n",
    "\n",
    "    # Calculate loss ratio (only if previous_value is positive)\n",
    "    if previous_value > 0:\n",
    "        daily_loss = (previous_value - current_value) / previous_value\n",
    "        if daily_loss > daily_loss_threshold:\n",
    "            logging.warning(f\"[STOP LOSS TRIGGERED] Drop: {daily_loss:.2%}, \"\n",
    "                            f\"Prev: {previous_value}, Now: {current_value}\")\n",
    "            print(\"❌ STOP: Live account drop exceeded threshold. No trades executed.\")\n",
    "            exit()\n",
    "\n",
    "    # Save current value for next run\n",
    "    with open(YESTERDAY_FILE, 'w') as f:\n",
    "        f.write(str(current_value))\n",
    "    print(f\"✅ Live account loss check passed. Current value: {current_value}, Previous value: {previous_value}\")\n",
    "\n",
    "except Exception as e:\n",
    "    logging.error(f\"[STOP LOSS ERROR] Failed to check live account loss: {e}\")\n",
    "    print(f\"Error checking live account loss: {e}\")\n",
    "\n"
   ]
  },
  {
   "cell_type": "code",
   "execution_count": 13,
   "id": "c7e85e65",
   "metadata": {},
   "outputs": [
    {
     "data": {
      "text/plain": [
       "'ppo'"
      ]
     },
     "execution_count": 13,
     "metadata": {},
     "output_type": "execute_result"
    }
   ],
   "source": [
    "best_model"
   ]
  },
  {
   "cell_type": "code",
   "execution_count": 14,
   "id": "3ddcb67c",
   "metadata": {},
   "outputs": [
    {
     "name": "stderr",
     "output_type": "stream",
     "text": [
      "[*********************100%***********************]  1 of 1 completed\n",
      "[*********************100%***********************]  1 of 1 completed\n",
      "[*********************100%***********************]  1 of 1 completed\n",
      "[*********************100%***********************]  1 of 1 completed\n",
      "[*********************100%***********************]  1 of 1 completed\n",
      "[*********************100%***********************]  1 of 1 completed\n",
      "[*********************100%***********************]  1 of 1 completed\n",
      "[*********************100%***********************]  1 of 1 completed\n",
      "[*********************100%***********************]  1 of 1 completed\n",
      "[*********************100%***********************]  1 of 1 completed\n",
      "[*********************100%***********************]  1 of 1 completed\n",
      "[*********************100%***********************]  1 of 1 completed\n",
      "[*********************100%***********************]  1 of 1 completed\n",
      "[*********************100%***********************]  1 of 1 completed\n",
      "[*********************100%***********************]  1 of 1 completed\n",
      "[*********************100%***********************]  1 of 1 completed\n",
      "[*********************100%***********************]  1 of 1 completed\n"
     ]
    },
    {
     "name": "stdout",
     "output_type": "stream",
     "text": [
      "Shape of DataFrame:  (17034, 8)\n"
     ]
    },
    {
     "name": "stderr",
     "output_type": "stream",
     "text": [
      "[*********************100%***********************]  1 of 1 completed"
     ]
    },
    {
     "name": "stdout",
     "output_type": "stream",
     "text": [
      "Successfully added technical indicators\n",
      "Shape of DataFrame:  (1001, 8)\n",
      "Successfully added vix\n"
     ]
    },
    {
     "name": "stderr",
     "output_type": "stream",
     "text": [
      "\n"
     ]
    },
    {
     "name": "stdout",
     "output_type": "stream",
     "text": [
      "Successfully added turbulence index\n",
      "Stock Dimension: 17, State Space: 171\n",
      "Live num_stock_shares: [0, 44, 72, 76, 0, 68, 0, 102, 0, 0, 0, 81, 84, 0, 0, 0, 81]\n",
      "Initial account value: 826362.65, Cash balance: 826362.65\n"
     ]
    }
   ],
   "source": [
    "df_raw = YahooDownloader(\n",
    "    start_date=TRAIN_START_DATE,\n",
    "    end_date=TRADE_END_DATE,\n",
    "    ticker_list=tickers\n",
    ").fetch_data()\n",
    "\n",
    "fe = FeatureEngineer(\n",
    "    use_technical_indicator=True,\n",
    "    tech_indicator_list=INDICATORS,\n",
    "    use_vix=True,\n",
    "    use_turbulence=True,\n",
    "    user_defined_feature=False\n",
    ")\n",
    "processed = fe.preprocess_data(df_raw)\n",
    "\n",
    "# Align to all dates and tickers\n",
    "list_ticker = processed[\"tic\"].unique().tolist()\n",
    "list_date = list(pd.date_range(processed['date'].min(), processed['date'].max()).astype(str))\n",
    "combination = list(itertools.product(list_date, list_ticker))\n",
    "processed_full = pd.DataFrame(combination, columns=[\"date\", \"tic\"]) \\\n",
    "    .merge(processed, on=[\"date\", \"tic\"], how=\"left\")\n",
    "processed_full = processed_full[processed_full['date'].isin(processed['date'])]\n",
    "processed_full = processed_full.sort_values(['date','tic'])\n",
    "processed_full = processed_full.fillna(0)\n",
    "\n",
    "# Make sure 'date' column is in datetime format\n",
    "processed_full['date'] = pd.to_datetime(processed_full['date'])\n",
    "\n",
    "# Sort first for consistency\n",
    "processed_full = processed_full.sort_values(by=['date', 'tic']).reset_index(drop=True)\n",
    "\n",
    "# Assign the same index to all rows with the same date\n",
    "processed_full.index = processed_full.groupby('date').ngroup()\n",
    "\n",
    "\n",
    "stock_dimension = len(tickers)\n",
    "state_space = 1 + 2 * stock_dimension + len(INDICATORS) * stock_dimension\n",
    "print(f\"Stock Dimension: {stock_dimension}, State Space: {state_space}\")\n",
    "\n",
    "buy_cost_list = sell_cost_list = [0.001] * stock_dimension\n",
    "# Get live positions from Tiger Broker\n",
    "positions = trade_client.get_positions()\n",
    "\n",
    "# Make sure tickers are lowercase for matching\n",
    "tickers_lower = [t.lower() for t in tickers]\n",
    "\n",
    "# Build list of shares held per ticker in the correct order\n",
    "num_stock_shares = [\n",
    "    next((pos.quantity for pos in positions if hasattr(pos, \"contract\") and pos.contract.symbol.lower() == t), 0)\n",
    "    for t in tickers_lower\n",
    "]\n",
    "\n",
    "print(\"Live num_stock_shares:\", num_stock_shares)\n",
    "assets = trade_client.get_assets()\n",
    "account_summary = assets[0].summary\n",
    "cash_balance = float(account_summary.cash)\n",
    "\n",
    "env_kwargs = {\n",
    "    \"hmax\": 100,\n",
    "    \"initial_amount\": cash_balance,\n",
    "    \"num_stock_shares\": num_stock_shares,\n",
    "    \"buy_cost_pct\": buy_cost_list,\n",
    "    \"sell_cost_pct\": sell_cost_list,\n",
    "    \"state_space\": state_space,\n",
    "    \"stock_dim\": stock_dimension,\n",
    "    \"tech_indicator_list\": INDICATORS,\n",
    "    \"action_space\": stock_dimension,\n",
    "    \"reward_scaling\": 1e-4\n",
    "}\n",
    "\n",
    "env = StockTradingEnv(df=processed_full, **env_kwargs)\n",
    "obs, _ = env.reset()\n",
    "initial_account_value = env.initial_amount\n",
    "print(f\"Initial account value: {initial_account_value}, Cash balance: {cash_balance}\")\n",
    "\n",
    "final_action = final_model.predict(obs, deterministic=True)[0]\n"
   ]
  },
  {
   "cell_type": "code",
   "execution_count": 15,
   "id": "1c7c5dfa",
   "metadata": {},
   "outputs": [
    {
     "name": "stdout",
     "output_type": "stream",
     "text": [
      "aapl: 0\n",
      "amd: 44\n",
      "amzn: 72\n",
      "cat: 76\n",
      "crwd: 0\n",
      "googl: 68\n",
      "gs: 0\n",
      "hd: 102\n",
      "ibm: 0\n",
      "intc: 0\n",
      "meta: 0\n",
      "msft: 81\n",
      "nvda: 84\n",
      "pypl: 0\n",
      "t: 0\n",
      "tsla: 0\n",
      "v: 81\n"
     ]
    }
   ],
   "source": [
    "for ticker, shares in zip(tickers, num_stock_shares):\n",
    "    print(f\"{ticker}: {shares}\")\n"
   ]
  },
  {
   "cell_type": "code",
   "execution_count": 16,
   "id": "eec44151",
   "metadata": {},
   "outputs": [
    {
     "name": "stdout",
     "output_type": "stream",
     "text": [
      "2025-06-23\n"
     ]
    }
   ],
   "source": [
    "print(df_raw.date.max())"
   ]
  },
  {
   "cell_type": "code",
   "execution_count": null,
   "id": "25d715a6",
   "metadata": {},
   "outputs": [
    {
     "name": "stdout",
     "output_type": "stream",
     "text": [
      "Processing action for AAPL: -0.0143\n",
      "Current price for AAPL: $201.50\n",
      "Processing action for AMD: 0.1127\n",
      "Current price for AMD: $129.58\n",
      "BUY 11 shares of AMD at $129.58\n",
      "Order({'account': '21922446447411428', 'id': 39565457847748608, 'order_id': None, 'parent_id': None, 'order_time': None, 'reason': None, 'trade_time': None, 'action': 'BUY', 'quantity': 11, 'filled': 0, 'avg_fill_price': 0, 'commission': None, 'realized_pnl': None, 'trail_stop_price': None, 'limit_price': np.float64(128.28), 'aux_price': None, 'trailing_percent': None, 'percent_offset': None, 'order_type': 'LMT', 'time_in_force': None, 'outside_rth': None, 'order_legs': None, 'algo_params': None, 'algo_strategy': None, 'secret_key': None, 'liquidation': None, 'discount': None, 'attr_desc': None, 'source': None, 'adjust_limit': None, 'sub_ids': [], 'user_mark': None, 'update_time': None, 'expire_time': None, 'can_modify': None, 'external_id': None, 'combo_type': None, 'combo_type_desc': None, 'is_open': None, 'contract_legs': None, 'filled_scale': None, 'total_cash_amount': None, 'filled_cash_amount': None, 'refund_cash_amount': None, 'attr_list': None, 'latest_price': None, 'orders': [{'symbol': 'AMD', 'market': 'US', 'secType': 'STK', 'currency': 'USD', 'identifier': 'AMD', 'id': 39565457847748608, 'externalId': '65', 'orderId': 65, 'account': '21922446447411428', 'action': 'BUY', 'orderType': 'LMT', 'limitPrice': 128.28, 'totalQuantity': 11, 'totalQuantityScale': 0, 'filledQuantity': 0, 'filledQuantityScale': 0, 'filledCashAmount': 0.0, 'avgFillPrice': 0.0, 'timeInForce': 'DAY', 'outsideRth': True, 'commission': 0.0, 'gst': 0.0, 'realizedPnl': 0.0, 'remark': '', 'liquidation': False, 'openTime': 1750759687000, 'updateTime': 1750759687000, 'latestTime': 1750759688000, 'name': 'Advanced Micro Devices', 'latestPrice': 132.55, 'attrDesc': '', 'userMark': '', 'algoStrategy': 'LMT', 'status': 'Initial', 'source': 'openapi', 'discount': 0, 'replaceStatus': 'NONE', 'cancelStatus': 'NONE', 'canModify': True, 'canCancel': True, 'isOpen': True, 'orderDiscount': 0, 'tradingSessionType': 'PRE_RTH_POST'}], 'gst': None, 'quantity_scale': None, 'trading_session_type': None, 'charges': None, 'contract': AMD/STK/USD, 'status': 'NEW', 'remaining': 11})\n",
      "Processing action for AMZN: 0.1862\n",
      "Current price for AMZN: $208.47\n",
      "BUY 18 shares of AMZN at $208.47\n",
      "Order({'account': '21922446447411428', 'id': 39565457883004928, 'order_id': None, 'parent_id': None, 'order_time': None, 'reason': None, 'trade_time': None, 'action': 'BUY', 'quantity': 18, 'filled': 0, 'avg_fill_price': 0, 'commission': None, 'realized_pnl': None, 'trail_stop_price': None, 'limit_price': np.float64(206.39), 'aux_price': None, 'trailing_percent': None, 'percent_offset': None, 'order_type': 'LMT', 'time_in_force': None, 'outside_rth': None, 'order_legs': None, 'algo_params': None, 'algo_strategy': None, 'secret_key': None, 'liquidation': None, 'discount': None, 'attr_desc': None, 'source': None, 'adjust_limit': None, 'sub_ids': [], 'user_mark': None, 'update_time': None, 'expire_time': None, 'can_modify': None, 'external_id': None, 'combo_type': None, 'combo_type_desc': None, 'is_open': None, 'contract_legs': None, 'filled_scale': None, 'total_cash_amount': None, 'filled_cash_amount': None, 'refund_cash_amount': None, 'attr_list': None, 'latest_price': None, 'orders': [{'symbol': 'AMZN', 'market': 'US', 'secType': 'STK', 'currency': 'USD', 'identifier': 'AMZN', 'id': 39565457883004928, 'externalId': '66', 'orderId': 66, 'account': '21922446447411428', 'action': 'BUY', 'orderType': 'LMT', 'limitPrice': 206.39, 'totalQuantity': 18, 'totalQuantityScale': 0, 'filledQuantity': 0, 'filledQuantityScale': 0, 'filledCashAmount': 0.0, 'avgFillPrice': 0.0, 'timeInForce': 'DAY', 'outsideRth': True, 'commission': 0.0, 'gst': 0.0, 'realizedPnl': 0.0, 'remark': '', 'liquidation': False, 'openTime': 1750759688000, 'updateTime': 1750759688000, 'latestTime': 1750759688000, 'name': 'Amazon.com', 'latestPrice': 211.9, 'attrDesc': '', 'userMark': '', 'algoStrategy': 'LMT', 'status': 'Initial', 'source': 'openapi', 'discount': 0, 'replaceStatus': 'NONE', 'cancelStatus': 'NONE', 'canModify': True, 'canCancel': True, 'isOpen': True, 'orderDiscount': 0, 'tradingSessionType': 'PRE_RTH_POST'}], 'gst': None, 'quantity_scale': None, 'trading_session_type': None, 'charges': None, 'contract': AMZN/STK/USD, 'status': 'NEW', 'remaining': 18})\n",
      "Processing action for CAT: 0.1949\n",
      "Current price for CAT: $366.23\n",
      "BUY 19 shares of CAT at $366.23\n",
      "Order({'account': '21922446447411428', 'id': 39565457913413632, 'order_id': None, 'parent_id': None, 'order_time': None, 'reason': None, 'trade_time': None, 'action': 'BUY', 'quantity': 19, 'filled': 0, 'avg_fill_price': 0, 'commission': None, 'realized_pnl': None, 'trail_stop_price': None, 'limit_price': np.float64(362.57), 'aux_price': None, 'trailing_percent': None, 'percent_offset': None, 'order_type': 'LMT', 'time_in_force': None, 'outside_rth': None, 'order_legs': None, 'algo_params': None, 'algo_strategy': None, 'secret_key': None, 'liquidation': None, 'discount': None, 'attr_desc': None, 'source': None, 'adjust_limit': None, 'sub_ids': [], 'user_mark': None, 'update_time': None, 'expire_time': None, 'can_modify': None, 'external_id': None, 'combo_type': None, 'combo_type_desc': None, 'is_open': None, 'contract_legs': None, 'filled_scale': None, 'total_cash_amount': None, 'filled_cash_amount': None, 'refund_cash_amount': None, 'attr_list': None, 'latest_price': None, 'orders': [{'symbol': 'CAT', 'market': 'US', 'secType': 'STK', 'currency': 'USD', 'identifier': 'CAT', 'id': 39565457913413632, 'externalId': '67', 'orderId': 67, 'account': '21922446447411428', 'action': 'BUY', 'orderType': 'LMT', 'limitPrice': 362.57, 'totalQuantity': 19, 'totalQuantityScale': 0, 'filledQuantity': 0, 'filledQuantityScale': 0, 'filledCashAmount': 0.0, 'avgFillPrice': 0.0, 'timeInForce': 'DAY', 'outsideRth': True, 'commission': 0.0, 'gst': 0.0, 'realizedPnl': 0.0, 'remark': '', 'liquidation': False, 'openTime': 1750759688000, 'updateTime': 1750759688000, 'latestTime': 1750759688000, 'name': 'Caterpillar', 'latestPrice': 366.23, 'attrDesc': '', 'userMark': '', 'algoStrategy': 'LMT', 'status': 'Initial', 'source': 'openapi', 'discount': 0, 'replaceStatus': 'NONE', 'cancelStatus': 'NONE', 'canModify': True, 'canCancel': True, 'isOpen': True, 'orderDiscount': 0, 'tradingSessionType': 'PRE_RTH_POST'}], 'gst': None, 'quantity_scale': None, 'trading_session_type': None, 'charges': None, 'contract': CAT/STK/USD, 'status': 'NEW', 'remaining': 19})\n",
      "Processing action for CRWD: -0.0178\n",
      "Current price for CRWD: $491.81\n",
      "Processing action for GOOGL: 0.1737\n",
      "Current price for GOOGL: $165.19\n",
      "BUY 17 shares of GOOGL at $165.19\n",
      "Order({'account': '21922446447411428', 'id': 39565457951949824, 'order_id': None, 'parent_id': None, 'order_time': None, 'reason': None, 'trade_time': None, 'action': 'BUY', 'quantity': 17, 'filled': 0, 'avg_fill_price': 0, 'commission': None, 'realized_pnl': None, 'trail_stop_price': None, 'limit_price': np.float64(163.54), 'aux_price': None, 'trailing_percent': None, 'percent_offset': None, 'order_type': 'LMT', 'time_in_force': None, 'outside_rth': None, 'order_legs': None, 'algo_params': None, 'algo_strategy': None, 'secret_key': None, 'liquidation': None, 'discount': None, 'attr_desc': None, 'source': None, 'adjust_limit': None, 'sub_ids': [], 'user_mark': None, 'update_time': None, 'expire_time': None, 'can_modify': None, 'external_id': None, 'combo_type': None, 'combo_type_desc': None, 'is_open': None, 'contract_legs': None, 'filled_scale': None, 'total_cash_amount': None, 'filled_cash_amount': None, 'refund_cash_amount': None, 'attr_list': None, 'latest_price': None, 'orders': [{'symbol': 'GOOGL', 'market': 'US', 'secType': 'STK', 'currency': 'USD', 'identifier': 'GOOGL', 'id': 39565457951949824, 'externalId': '68', 'orderId': 68, 'account': '21922446447411428', 'action': 'BUY', 'orderType': 'LMT', 'limitPrice': 163.54, 'totalQuantity': 17, 'totalQuantityScale': 0, 'filledQuantity': 0, 'filledQuantityScale': 0, 'filledCashAmount': 0.0, 'avgFillPrice': 0.0, 'timeInForce': 'DAY', 'outsideRth': True, 'commission': 0.0, 'gst': 0.0, 'realizedPnl': 0.0, 'remark': '', 'liquidation': False, 'openTime': 1750759688000, 'updateTime': 1750759688000, 'latestTime': 1750759689000, 'name': 'Alphabet', 'latestPrice': 167.11, 'attrDesc': '', 'userMark': '', 'algoStrategy': 'LMT', 'status': 'Initial', 'source': 'openapi', 'discount': 0, 'replaceStatus': 'NONE', 'cancelStatus': 'NONE', 'canModify': True, 'canCancel': True, 'isOpen': True, 'orderDiscount': 0, 'tradingSessionType': 'PRE_RTH_POST'}], 'gst': None, 'quantity_scale': None, 'trading_session_type': None, 'charges': None, 'contract': GOOGL/STK/USD, 'status': 'NEW', 'remaining': 17})\n",
      "Processing action for GS: 0.0874\n",
      "Current price for GS: $646.88\n",
      "BUY 8 shares of GS at $646.88\n",
      "Order({'account': '21922446447411428', 'id': 39565457982358528, 'order_id': None, 'parent_id': None, 'order_time': None, 'reason': None, 'trade_time': None, 'action': 'BUY', 'quantity': 8, 'filled': 0, 'avg_fill_price': 0, 'commission': None, 'realized_pnl': None, 'trail_stop_price': None, 'limit_price': np.float64(640.41), 'aux_price': None, 'trailing_percent': None, 'percent_offset': None, 'order_type': 'LMT', 'time_in_force': None, 'outside_rth': None, 'order_legs': None, 'algo_params': None, 'algo_strategy': None, 'secret_key': None, 'liquidation': None, 'discount': None, 'attr_desc': None, 'source': None, 'adjust_limit': None, 'sub_ids': [], 'user_mark': None, 'update_time': None, 'expire_time': None, 'can_modify': None, 'external_id': None, 'combo_type': None, 'combo_type_desc': None, 'is_open': None, 'contract_legs': None, 'filled_scale': None, 'total_cash_amount': None, 'filled_cash_amount': None, 'refund_cash_amount': None, 'attr_list': None, 'latest_price': None, 'orders': [{'symbol': 'GS', 'market': 'US', 'secType': 'STK', 'currency': 'USD', 'identifier': 'GS', 'id': 39565457982358528, 'externalId': '69', 'orderId': 69, 'account': '21922446447411428', 'action': 'BUY', 'orderType': 'LMT', 'limitPrice': 640.41, 'totalQuantity': 8, 'totalQuantityScale': 0, 'filledQuantity': 0, 'filledQuantityScale': 0, 'filledCashAmount': 0.0, 'avgFillPrice': 0.0, 'timeInForce': 'DAY', 'outsideRth': True, 'commission': 0.0, 'gst': 0.0, 'realizedPnl': 0.0, 'remark': '', 'liquidation': False, 'openTime': 1750759688000, 'updateTime': 1750759688000, 'latestTime': 1750759689000, 'name': 'Goldman Sachs', 'latestPrice': 652.99, 'attrDesc': '', 'userMark': '', 'algoStrategy': 'LMT', 'status': 'Initial', 'source': 'openapi', 'discount': 0, 'replaceStatus': 'NONE', 'cancelStatus': 'NONE', 'canModify': True, 'canCancel': True, 'isOpen': True, 'orderDiscount': 0, 'tradingSessionType': 'PRE_RTH_POST'}], 'gst': None, 'quantity_scale': None, 'trading_session_type': None, 'charges': None, 'contract': GS/STK/USD, 'status': 'NEW', 'remaining': 8})\n",
      "Processing action for HD: 0.3416\n",
      "Current price for HD: $356.96\n",
      "BUY 34 shares of HD at $356.96\n",
      "Order({'account': '21922446447411428', 'id': 39565458026398720, 'order_id': None, 'parent_id': None, 'order_time': None, 'reason': None, 'trade_time': None, 'action': 'BUY', 'quantity': 34, 'filled': 0, 'avg_fill_price': 0, 'commission': None, 'realized_pnl': None, 'trail_stop_price': None, 'limit_price': np.float64(353.39), 'aux_price': None, 'trailing_percent': None, 'percent_offset': None, 'order_type': 'LMT', 'time_in_force': None, 'outside_rth': None, 'order_legs': None, 'algo_params': None, 'algo_strategy': None, 'secret_key': None, 'liquidation': None, 'discount': None, 'attr_desc': None, 'source': None, 'adjust_limit': None, 'sub_ids': [], 'user_mark': None, 'update_time': None, 'expire_time': None, 'can_modify': None, 'external_id': None, 'combo_type': None, 'combo_type_desc': None, 'is_open': None, 'contract_legs': None, 'filled_scale': None, 'total_cash_amount': None, 'filled_cash_amount': None, 'refund_cash_amount': None, 'attr_list': None, 'latest_price': None, 'orders': [{'symbol': 'HD', 'market': 'US', 'secType': 'STK', 'currency': 'USD', 'identifier': 'HD', 'id': 39565458026398720, 'externalId': '70', 'orderId': 70, 'account': '21922446447411428', 'action': 'BUY', 'orderType': 'LMT', 'limitPrice': 353.39, 'totalQuantity': 34, 'totalQuantityScale': 0, 'filledQuantity': 0, 'filledQuantityScale': 0, 'filledCashAmount': 0.0, 'avgFillPrice': 0.0, 'timeInForce': 'DAY', 'outsideRth': True, 'commission': 0.0, 'gst': 0.0, 'realizedPnl': 0.0, 'remark': '', 'liquidation': False, 'openTime': 1750759689000, 'updateTime': 1750759689000, 'latestTime': 1750759689000, 'name': 'Home Depot', 'latestPrice': 358.36, 'attrDesc': '', 'userMark': '', 'algoStrategy': 'LMT', 'status': 'Initial', 'source': 'openapi', 'discount': 0, 'replaceStatus': 'NONE', 'cancelStatus': 'NONE', 'canModify': True, 'canCancel': True, 'isOpen': True, 'orderDiscount': 0, 'tradingSessionType': 'PRE_RTH_POST'}], 'gst': None, 'quantity_scale': None, 'trading_session_type': None, 'charges': None, 'contract': HD/STK/USD, 'status': 'NEW', 'remaining': 34})\n",
      "Processing action for IBM: -0.1442\n",
      "Current price for IBM: $289.18\n",
      "💡 Adjusted SELL for IBM: only selling 0 shares (held: 0)\n",
      "Processing action for INTC: 0.0024\n",
      "Current price for INTC: $21.19\n",
      "Processing action for META: -0.0361\n",
      "Current price for META: $698.53\n",
      "Processing action for MSFT: 0.2726\n",
      "Current price for MSFT: $486.00\n",
      "BUY 27 shares of MSFT at $486.00\n",
      "Order({'account': '21922446447411428', 'id': 39565458090491904, 'order_id': None, 'parent_id': None, 'order_time': None, 'reason': None, 'trade_time': None, 'action': 'BUY', 'quantity': 27, 'filled': 0, 'avg_fill_price': 0, 'commission': None, 'realized_pnl': None, 'trail_stop_price': None, 'limit_price': np.float64(481.14), 'aux_price': None, 'trailing_percent': None, 'percent_offset': None, 'order_type': 'LMT', 'time_in_force': None, 'outside_rth': None, 'order_legs': None, 'algo_params': None, 'algo_strategy': None, 'secret_key': None, 'liquidation': None, 'discount': None, 'attr_desc': None, 'source': None, 'adjust_limit': None, 'sub_ids': [], 'user_mark': None, 'update_time': None, 'expire_time': None, 'can_modify': None, 'external_id': None, 'combo_type': None, 'combo_type_desc': None, 'is_open': None, 'contract_legs': None, 'filled_scale': None, 'total_cash_amount': None, 'filled_cash_amount': None, 'refund_cash_amount': None, 'attr_list': None, 'latest_price': None, 'orders': [{'symbol': 'MSFT', 'market': 'US', 'secType': 'STK', 'currency': 'USD', 'identifier': 'MSFT', 'id': 39565458090491904, 'externalId': '71', 'orderId': 71, 'account': '21922446447411428', 'action': 'BUY', 'orderType': 'LMT', 'limitPrice': 481.14, 'totalQuantity': 27, 'totalQuantityScale': 0, 'filledQuantity': 0, 'filledQuantityScale': 0, 'filledCashAmount': 0.0, 'avgFillPrice': 0.0, 'timeInForce': 'DAY', 'outsideRth': True, 'commission': 0.0, 'gst': 0.0, 'realizedPnl': 0.0, 'remark': '', 'liquidation': False, 'openTime': 1750759689000, 'updateTime': 1750759689000, 'latestTime': 1750759690000, 'name': 'Microsoft', 'latestPrice': 489.25, 'attrDesc': '', 'userMark': '', 'algoStrategy': 'LMT', 'status': 'Initial', 'source': 'openapi', 'discount': 0, 'replaceStatus': 'NONE', 'cancelStatus': 'NONE', 'canModify': True, 'canCancel': True, 'isOpen': True, 'orderDiscount': 0, 'tradingSessionType': 'PRE_RTH_POST'}], 'gst': None, 'quantity_scale': None, 'trading_session_type': None, 'charges': None, 'contract': MSFT/STK/USD, 'status': 'NEW', 'remaining': 27})\n",
      "Processing action for NVDA: 0.2157\n",
      "Current price for NVDA: $144.17\n",
      "BUY 21 shares of NVDA at $144.17\n",
      "Order({'account': '21922446447411428', 'id': 39565458120769536, 'order_id': None, 'parent_id': None, 'order_time': None, 'reason': None, 'trade_time': None, 'action': 'BUY', 'quantity': 21, 'filled': 0, 'avg_fill_price': 0, 'commission': None, 'realized_pnl': None, 'trail_stop_price': None, 'limit_price': np.float64(142.73), 'aux_price': None, 'trailing_percent': None, 'percent_offset': None, 'order_type': 'LMT', 'time_in_force': None, 'outside_rth': None, 'order_legs': None, 'algo_params': None, 'algo_strategy': None, 'secret_key': None, 'liquidation': None, 'discount': None, 'attr_desc': None, 'source': None, 'adjust_limit': None, 'sub_ids': [], 'user_mark': None, 'update_time': None, 'expire_time': None, 'can_modify': None, 'external_id': None, 'combo_type': None, 'combo_type_desc': None, 'is_open': None, 'contract_legs': None, 'filled_scale': None, 'total_cash_amount': None, 'filled_cash_amount': None, 'refund_cash_amount': None, 'attr_list': None, 'latest_price': None, 'orders': [{'symbol': 'NVDA', 'market': 'US', 'secType': 'STK', 'currency': 'USD', 'identifier': 'NVDA', 'id': 39565458120769536, 'externalId': '72', 'orderId': 72, 'account': '21922446447411428', 'action': 'BUY', 'orderType': 'LMT', 'limitPrice': 142.73, 'totalQuantity': 21, 'totalQuantityScale': 0, 'filledQuantity': 0, 'filledQuantityScale': 0, 'filledCashAmount': 0.0, 'avgFillPrice': 0.0, 'timeInForce': 'DAY', 'outsideRth': True, 'commission': 0.0, 'gst': 0.0, 'realizedPnl': 0.0, 'remark': '', 'liquidation': False, 'openTime': 1750759689000, 'updateTime': 1750759689000, 'latestTime': 1750759690000, 'name': 'NVIDIA', 'latestPrice': 145.57, 'attrDesc': '', 'userMark': '', 'algoStrategy': 'LMT', 'status': 'Initial', 'source': 'openapi', 'discount': 0, 'replaceStatus': 'NONE', 'cancelStatus': 'NONE', 'canModify': True, 'canCancel': True, 'isOpen': True, 'orderDiscount': 0, 'tradingSessionType': 'PRE_RTH_POST'}], 'gst': None, 'quantity_scale': None, 'trading_session_type': None, 'charges': None, 'contract': NVDA/STK/USD, 'status': 'NEW', 'remaining': 21})\n",
      "Processing action for PYPL: -0.0505\n",
      "Current price for PYPL: $72.01\n",
      "💡 Adjusted SELL for PYPL: only selling 0 shares (held: 0)\n",
      "Processing action for T: -0.2655\n",
      "Current price for T: $28.20\n",
      "💡 Adjusted SELL for T: only selling 0 shares (held: 0)\n",
      "Processing action for TSLA: 0.0906\n",
      "Current price for TSLA: $348.68\n",
      "BUY 9 shares of TSLA at $348.68\n",
      "Order({'account': '21922446447411428', 'id': 39565458171232256, 'order_id': None, 'parent_id': None, 'order_time': None, 'reason': None, 'trade_time': None, 'action': 'BUY', 'quantity': 9, 'filled': 0, 'avg_fill_price': 0, 'commission': None, 'realized_pnl': None, 'trail_stop_price': None, 'limit_price': np.float64(345.19), 'aux_price': None, 'trailing_percent': None, 'percent_offset': None, 'order_type': 'LMT', 'time_in_force': None, 'outside_rth': None, 'order_legs': None, 'algo_params': None, 'algo_strategy': None, 'secret_key': None, 'liquidation': None, 'discount': None, 'attr_desc': None, 'source': None, 'adjust_limit': None, 'sub_ids': [], 'user_mark': None, 'update_time': None, 'expire_time': None, 'can_modify': None, 'external_id': None, 'combo_type': None, 'combo_type_desc': None, 'is_open': None, 'contract_legs': None, 'filled_scale': None, 'total_cash_amount': None, 'filled_cash_amount': None, 'refund_cash_amount': None, 'attr_list': None, 'latest_price': None, 'orders': [{'symbol': 'TSLA', 'market': 'US', 'secType': 'STK', 'currency': 'USD', 'identifier': 'TSLA', 'id': 39565458171232256, 'externalId': '73', 'orderId': 73, 'account': '21922446447411428', 'action': 'BUY', 'orderType': 'LMT', 'limitPrice': 345.19, 'totalQuantity': 9, 'totalQuantityScale': 0, 'filledQuantity': 0, 'filledQuantityScale': 0, 'filledCashAmount': 0.0, 'avgFillPrice': 0.0, 'timeInForce': 'DAY', 'outsideRth': True, 'commission': 0.0, 'gst': 0.0, 'realizedPnl': 0.0, 'remark': '', 'liquidation': False, 'openTime': 1750759690000, 'updateTime': 1750759690000, 'latestTime': 1750759690000, 'name': 'Tesla Motors', 'latestPrice': 357.19, 'attrDesc': '', 'userMark': '', 'algoStrategy': 'LMT', 'status': 'Initial', 'source': 'openapi', 'discount': 0, 'replaceStatus': 'NONE', 'cancelStatus': 'NONE', 'canModify': True, 'canCancel': True, 'isOpen': True, 'orderDiscount': 0, 'tradingSessionType': 'PRE_RTH_POST'}], 'gst': None, 'quantity_scale': None, 'trading_session_type': None, 'charges': None, 'contract': TSLA/STK/USD, 'status': 'NEW', 'remaining': 9})\n",
      "Processing action for V: 0.2762\n",
      "Current price for V: $343.75\n",
      "BUY 27 shares of V at $343.75\n",
      "Order({'account': '21922446447411428', 'id': 39565458198364160, 'order_id': None, 'parent_id': None, 'order_time': None, 'reason': None, 'trade_time': None, 'action': 'BUY', 'quantity': 27, 'filled': 0, 'avg_fill_price': 0, 'commission': None, 'realized_pnl': None, 'trail_stop_price': None, 'limit_price': np.float64(340.31), 'aux_price': None, 'trailing_percent': None, 'percent_offset': None, 'order_type': 'LMT', 'time_in_force': None, 'outside_rth': None, 'order_legs': None, 'algo_params': None, 'algo_strategy': None, 'secret_key': None, 'liquidation': None, 'discount': None, 'attr_desc': None, 'source': None, 'adjust_limit': None, 'sub_ids': [], 'user_mark': None, 'update_time': None, 'expire_time': None, 'can_modify': None, 'external_id': None, 'combo_type': None, 'combo_type_desc': None, 'is_open': None, 'contract_legs': None, 'filled_scale': None, 'total_cash_amount': None, 'filled_cash_amount': None, 'refund_cash_amount': None, 'attr_list': None, 'latest_price': None, 'orders': [{'symbol': 'V', 'market': 'US', 'secType': 'STK', 'currency': 'USD', 'identifier': 'V', 'id': 39565458198364160, 'externalId': '74', 'orderId': 74, 'account': '21922446447411428', 'action': 'BUY', 'orderType': 'LMT', 'limitPrice': 340.31, 'totalQuantity': 27, 'totalQuantityScale': 0, 'filledQuantity': 0, 'filledQuantityScale': 0, 'filledCashAmount': 0.0, 'avgFillPrice': 0.0, 'timeInForce': 'DAY', 'outsideRth': True, 'commission': 0.0, 'gst': 0.0, 'realizedPnl': 0.0, 'remark': '', 'liquidation': False, 'openTime': 1750759690000, 'updateTime': 1750759690000, 'latestTime': 1750759690000, 'name': 'Visa', 'latestPrice': 348.85, 'attrDesc': '', 'userMark': '', 'algoStrategy': 'LMT', 'status': 'Initial', 'source': 'openapi', 'discount': 0, 'replaceStatus': 'NONE', 'cancelStatus': 'NONE', 'canModify': True, 'canCancel': True, 'isOpen': True, 'orderDiscount': 0, 'tradingSessionType': 'PRE_RTH_POST'}], 'gst': None, 'quantity_scale': None, 'trading_session_type': None, 'charges': None, 'contract': V/STK/USD, 'status': 'NEW', 'remaining': 27})\n",
      "Saved latest account value for stop-loss: 1003315.31\n",
      "SMART trade execution complete.\n"
     ]
    }
   ],
   "source": [
    "from tigeropen.common.util.order_utils import (limit_order)           # Attached Order\n",
    "\n",
    "\n",
    "\n",
    "# === Get account balance and positions ===\n",
    "capital_limit = cash_balance * capital_limit_pct\n",
    "logging.info(f\"Cash balance: {cash_balance}, Capital allocation limit: {capital_limit:.2f}\")\n",
    "positions = trade_client.get_positions()\n",
    "current_holdings = {pos.contract.symbol.lower(): pos.quantity for pos in positions if hasattr(pos, \"contract\") and pos.contract.symbol.lower() in tickers}\n",
    "logging.info(f\"Current holdings: {current_holdings}\")\n",
    "\n",
    "# === Execute Action Vector ===\n",
    "def execute_trades(action_vector, tickers, trade_client, cash_balance):\n",
    "    try:\n",
    "        prices = {tic: yf.Ticker(tic).history(period='1d')['Close'].iloc[-1] for tic in tickers}\n",
    "    except Exception as e:\n",
    "        logging.error(f\"Error fetching prices: {e}\")\n",
    "        return\n",
    "\n",
    "    for i, a in enumerate(action_vector):\n",
    "        symbol = tickers[i].upper()\n",
    "        logging.info(f\"Processing action for {symbol}: {a:.4f}\")\n",
    "        print(f\"Processing action for {symbol}: {a:.4f}\")\n",
    "        price = prices.get(symbol.lower(), None)\n",
    "        contract = trade_client.get_contracts(symbol=symbol)[0]\n",
    "        if price is None:\n",
    "            logging.warning(f\"Price not available for {symbol}, skipping.\")\n",
    "            continue\n",
    "        logging.info(f\"Current price for {symbol}: ${price:.2f}\")\n",
    "        print(f\"Current price for {symbol}: ${price:.2f}\")\n",
    "        shares = int(abs(a) * hmax)\n",
    "        if shares == 0:\n",
    "            continue\n",
    "\n",
    "        action_type = None\n",
    "        if a > 0.01:\n",
    "            cost = shares * price\n",
    "            if cost > capital_limit:\n",
    "                # Adjust to maximum affordable shares\n",
    "                shares = int(capital_limit / price)\n",
    "                cost = shares * price\n",
    "                print(f\"💡 Adjusted BUY for {symbol}: {shares} shares within limit (${cost:.2f})\")\n",
    "                if shares == 0:\n",
    "                    continue\n",
    "            action_type = 'BUY'\n",
    "\n",
    "        elif a < -0.01:\n",
    "            held = current_holdings.get(symbol.lower(), 0)\n",
    "            if shares > held:\n",
    "                shares = held  # Sell only what you have\n",
    "                print(f\"💡 Adjusted SELL for {symbol}: only selling {shares} shares (held: {held})\")\n",
    "                if shares == 0:\n",
    "                    continue\n",
    "            action_type = 'SELL'\n",
    "\n",
    "        else:\n",
    "            continue\n",
    "\n",
    "        logging.info(f\"{action_type} {shares} shares of {symbol} at ${price:.2f}\")\n",
    "        print(f\"{action_type} {shares} shares of {symbol} at ${price:.2f}\")\n",
    "        try:\n",
    "            if action_type == 'BUY':\n",
    "                price = round(price * 0.99, 2)\n",
    "            elif action_type == 'SELL':\n",
    "                price = round(price * 1.01, 2)\n",
    "            stock_order = limit_order(\n",
    "                account=config.account,\n",
    "                contract=contract,\n",
    "                action=action_type,\n",
    "                limit_price=price,\n",
    "                quantity=shares\n",
    "            )\n",
    "            trade_client.place_order(stock_order)\n",
    "            print(stock_order)\n",
    "        except Exception as e:\n",
    "            logging.error(f\"Order failed for {symbol}: {e}\")\n",
    "            print(f\"Order failed for {symbol}: {e}\")\n",
    "\n",
    "# === Trade ===\n",
    "execute_trades(final_action, tickers, trade_client, cash_balance)\n",
    "\n",
    "# === Save today’s account value for next day ===\n",
    "try:\n",
    "    updated_assets = trade_client.get_assets()\n",
    "    latest_value = float(updated_assets[0].summary.net_liquidation)\n",
    "    with open(YESTERDAY_FILE, 'w') as f:\n",
    "        f.write(str(latest_value))\n",
    "    logging.info(f\"Saved latest account value for stop-loss: {latest_value}\")\n",
    "    print(f\"Saved latest account value for stop-loss: {latest_value}\")\n",
    "except Exception as e:\n",
    "    logging.error(f\"Failed to save account value for stop-loss check: {e}\")\n",
    "    print(f\"Failed to save account value for stop-loss check: {e}\")\n",
    "\n",
    "logging.info(\"SMART trade execution complete.\")\n",
    "print(\"SMART trade execution complete.\")"
   ]
  },
  {
   "cell_type": "code",
   "execution_count": 19,
   "id": "5de980dd",
   "metadata": {},
   "outputs": [
    {
     "name": "stdout",
     "output_type": "stream",
     "text": [
      "Current Holdings Completed\n",
      "Pending Orders Completed\n",
      "📄 Transaction log saved: transaction_actions/transaction_2025-06-24.txt\n"
     ]
    }
   ],
   "source": [
    "from datetime import datetime\n",
    "import os\n",
    "# === Create folder if it doesn't exist ===\n",
    "os.makedirs(\"transaction_actions\", exist_ok=True)\n",
    "\n",
    "# === Prepare log content ===\n",
    "log_lines = []\n",
    "today_str = datetime.now().strftime('%Y-%m-%d')\n",
    "log_file = f\"transaction_actions/transaction_{today_str}.txt\"\n",
    "\n",
    "try:\n",
    "    # ✅ Current Holdings\n",
    "    log_lines.append(f\"📅 Date: {today_str}\\n\")\n",
    "    log_lines.append(\"✅ Current Holdings:\")\n",
    "    positions = trade_client.get_positions()\n",
    "    for pos in positions:\n",
    "        if pos.quantity > 0 and hasattr(pos, \"contract\") and hasattr(pos.contract, \"symbol\"):\n",
    "            log_lines.append(f\" - {pos.contract.symbol}: {pos.quantity} shares\")\n",
    "    print(\"Current Holdings Completed\")\n",
    "    # ⏳ Pending Orders\n",
    "    log_lines.append(\"\\n⏳ Pending Orders:\")\n",
    "    open_orders = trade_client.get_open_orders()\n",
    "    for order in open_orders:\n",
    "        if hasattr(order, 'contract') and hasattr(order.contract, 'symbol') and hasattr(order, 'action') and hasattr(order, 'order_id'):\n",
    "            price_info = getattr(order, 'limit_price', 'N/A')\n",
    "            status = getattr(order, 'status', 'Unknown')\n",
    "            log_lines.append(f\"- {order.contract.symbol}: {order.action} order (Limit: {price_info}, Qty: {order.quantity}) [Status: {status}, ID: {order.order_id}]\")\n",
    "    if not open_orders:\n",
    "        log_lines.append(\" - None\")\n",
    "    print(\"Pending Orders Completed\")\n",
    "    # 💼 Executed Orders (today only)\n",
    "    log_lines.append(\"\\n💼 Executed Orders (Today):\")\n",
    "    all_orders = trade_client.get_orders()\n",
    "    for order in all_orders:\n",
    "        filled_time = getattr(order, 'filled_time', None)\n",
    "        if filled_time and filled_time.strftime('%Y-%m-%d') == today_str:\n",
    "            log_lines.append(f\"- {order.contract.symbol}: {order.action} order filled (Price: {getattr(order, 'filled_avg_price', 'N/A')}, Qty: {order.quantity}, ID: {order.order_id})\")\n",
    "    if not all_orders:\n",
    "        log_lines.append(\" - None\")\n",
    "except Exception as e:\n",
    "    log_lines.append(f\"\\n⚠️ Error retrieving open orders or positions: {e}\")\n",
    "\n",
    "# === Save to file ===\n",
    "try:\n",
    "    with open(log_file, 'w') as f:\n",
    "        f.write('\\n'.join(log_lines))\n",
    "    print(f\"📄 Transaction log saved: {log_file}\")\n",
    "except Exception as e:\n",
    "    print(f\"❌ Failed to write transaction log: {e}\")"
   ]
  }
 ],
 "metadata": {
  "kernelspec": {
   "display_name": "pyspark310",
   "language": "python",
   "name": "python3"
  },
  "language_info": {
   "codemirror_mode": {
    "name": "ipython",
    "version": 3
   },
   "file_extension": ".py",
   "mimetype": "text/x-python",
   "name": "python",
   "nbconvert_exporter": "python",
   "pygments_lexer": "ipython3",
   "version": "3.10.17"
  }
 },
 "nbformat": 4,
 "nbformat_minor": 5
}
